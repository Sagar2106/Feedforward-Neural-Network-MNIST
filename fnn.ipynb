{
 "cells": [
  {
   "cell_type": "code",
   "execution_count": 1,
   "metadata": {},
   "outputs": [],
   "source": [
    "import matplotlib.pyplot as plt\n",
    "from tensorflow.keras.utils import to_categorical\n",
    "from tensorflow.keras.datasets import mnist \n",
    "from tensorflow.keras.models import Sequential \n",
    "from tensorflow.keras.layers import Dense\n"
   ]
  },
  {
   "cell_type": "code",
   "execution_count": 2,
   "metadata": {},
   "outputs": [],
   "source": [
    "data = mnist.load_data()"
   ]
  },
  {
   "cell_type": "code",
   "execution_count": 3,
   "metadata": {},
   "outputs": [
    {
     "data": {
      "text/plain": [
       "(28, 28)"
      ]
     },
     "execution_count": 3,
     "metadata": {},
     "output_type": "execute_result"
    }
   ],
   "source": [
    "(x_train, y_train), (x_test, y_test) = data\n",
    "x_train[0].shape\n",
    "#x_train.shape\n"
   ]
  },
  {
   "cell_type": "code",
   "execution_count": 4,
   "metadata": {},
   "outputs": [],
   "source": [
    "X_train = x_train.reshape((x_train.shape[0], 28*28)).astype('float32')\n",
    "X_test = x_test.reshape((x_test.shape[0], 28*28)).astype('float32')\n"
   ]
  },
  {
   "cell_type": "code",
   "execution_count": 5,
   "metadata": {},
   "outputs": [],
   "source": [
    "X_train= X_train/255\n",
    "X_test= X_test/255"
   ]
  },
  {
   "cell_type": "code",
   "execution_count": 6,
   "metadata": {},
   "outputs": [],
   "source": [
    "Y_train=to_categorical(y_train)\n",
    "Y_test=to_categorical(y_test)"
   ]
  },
  {
   "cell_type": "code",
   "execution_count": 7,
   "metadata": {},
   "outputs": [],
   "source": [
    "model = Sequential()\n",
    "model.add(Dense(64, input_dim = 28*28, activation = 'sigmoid'))\n",
    "model.add(Dense(32, activation = 'sigmoid'))\n",
    "model.add(Dense(10, activation = 'softmax'))\n",
    "\n",
    "model.compile(optimizer= 'adam', loss = 'categorical_crossentropy', metrics= ['accuracy'])\n",
    "\n",
    "model.summary()"
   ]
  },
  {
   "cell_type": "code",
   "execution_count": 8,
   "metadata": {},
   "outputs": [
    {
     "name": "stdout",
     "output_type": "stream",
     "text": [
      "Model: \"sequential\"\n",
      "_________________________________________________________________\n",
      " Layer (type)                Output Shape              Param #   \n",
      "=================================================================\n",
      " dense (Dense)               (None, 32)                25120     \n",
      "                                                                 \n",
      " dense_1 (Dense)             (None, 64)                2112      \n",
      "                                                                 \n",
      " dense_2 (Dense)             (None, 10)                650       \n",
      "                                                                 \n",
      "=================================================================\n",
      "Total params: 27,882\n",
      "Trainable params: 27,882\n",
      "Non-trainable params: 0\n",
      "_________________________________________________________________\n"
     ]
    }
   ],
   "source": [
    "model.summary()\n"
   ]
  },
  {
   "cell_type": "code",
   "execution_count": 9,
   "metadata": {},
   "outputs": [
    {
     "name": "stdout",
     "output_type": "stream",
     "text": [
      "Epoch 1/10\n",
      "600/600 [==============================] - 2s 3ms/step - loss: 1.0781 - accuracy: 0.7453 - val_loss: 0.4434 - val_accuracy: 0.8911\n",
      "Epoch 2/10\n",
      "600/600 [==============================] - 2s 4ms/step - loss: 0.3476 - accuracy: 0.9077 - val_loss: 0.2782 - val_accuracy: 0.9214\n",
      "Epoch 3/10\n",
      "600/600 [==============================] - 2s 4ms/step - loss: 0.2546 - accuracy: 0.9273 - val_loss: 0.2265 - val_accuracy: 0.9347\n",
      "Epoch 4/10\n",
      "600/600 [==============================] - 3s 4ms/step - loss: 0.2111 - accuracy: 0.9391 - val_loss: 0.1974 - val_accuracy: 0.9412\n",
      "Epoch 5/10\n",
      "600/600 [==============================] - 2s 3ms/step - loss: 0.1830 - accuracy: 0.9475 - val_loss: 0.1778 - val_accuracy: 0.9460\n",
      "Epoch 6/10\n",
      "600/600 [==============================] - 2s 4ms/step - loss: 0.1626 - accuracy: 0.9529 - val_loss: 0.1623 - val_accuracy: 0.9510\n",
      "Epoch 7/10\n",
      "600/600 [==============================] - 3s 4ms/step - loss: 0.1466 - accuracy: 0.9576 - val_loss: 0.1491 - val_accuracy: 0.9547\n",
      "Epoch 8/10\n",
      "600/600 [==============================] - 2s 4ms/step - loss: 0.1332 - accuracy: 0.9615 - val_loss: 0.1448 - val_accuracy: 0.9569\n",
      "Epoch 9/10\n",
      "600/600 [==============================] - 2s 3ms/step - loss: 0.1222 - accuracy: 0.9647 - val_loss: 0.1339 - val_accuracy: 0.9588\n",
      "Epoch 10/10\n",
      "600/600 [==============================] - 2s 3ms/step - loss: 0.1127 - accuracy: 0.9673 - val_loss: 0.1281 - val_accuracy: 0.9610\n"
     ]
    }
   ],
   "source": [
    "metrics = model.fit(X_train, Y_train, batch_size= 100, epochs = 10, validation_data = (X_test, Y_test))"
   ]
  },
  {
   "cell_type": "code",
   "execution_count": 11,
   "metadata": {},
   "outputs": [
    {
     "data": {
      "image/png": "[encoded data removed]",
      "text/plain": [
       "<Figure size 1080x720 with 1 Axes>"
      ]
     },
     "metadata": {
      "needs_background": "light"
     },
     "output_type": "display_data"
    }
   ],
   "source": [
    "plt.figure(figsize=(15, 10))\n",
    "plt.plot(metrics.history['loss'])\n",
    "plt.plot(metrics.history['val_loss'])\n",
    "plt.title('Training vs Testing Loss')\n",
    "plt.ylabel('Loss')\n",
    "plt.xlabel('Iterations')\n",
    "plt.legend(['Training Loss', 'Testing Loss'], loc='upper right')\n",
    "plt.show()"
   ]
  },
  {
   "cell_type": "markdown",
   "metadata": {},
   "source": [
    "import matplotlib.pyplot as plt\n",
    "from tensorflow.keras.utils import to_categorical\n",
    "from tensorflow.keras.datasets import mnist \n",
    "from tensorflow.keras.models import Sequential \n",
    "from tensorflow.keras.layers import Dense\n",
    "\n",
    "#loading dataset from keras\n",
    "data = mnist.load_data()\n",
    "\n",
    "#Handling the dataset\n",
    "(x_train, y_train), (x_test, y_test) = data\n",
    "#x_train[0].shape\n",
    "#x_train.shape\n",
    "X_train = x_train.reshape((x_train.shape[0], 28*28)).astype('float32')\n",
    "X_test = x_test.reshape((x_test.shape[0], 28*28)).astype('float32')\n",
    "X_train= X_train/255\n",
    "X_test= X_test/255\n",
    "\n",
    "Y_train=to_categorical(y_train)\n",
    "Y_test=to_categorical(y_test)\n",
    "\n",
    "#creating the fnn model\n",
    "model = Sequential()\n",
    "model.add(Dense(32, input_dim = 28*28, activation = 'sigmoid'))\n",
    "model.add(Dense(64, activation = 'sigmoid'))\n",
    "model.add(Dense(10, activation = 'softmax'))\n",
    "model.compile(optimizer= 'adam', loss = 'categorical_crossentropy', metrics= ['accuracy'])\n",
    "\n",
    "#printing summary of the model\n",
    "model.summary()\n",
    "\n",
    "#training the fnn model\n",
    "metrics = model.fit(X_train, Y_train, batch_size= 100, epochs = 10, validation_data = (X_test, Y_test))\n",
    "\n",
    "#Plotting the graph\n",
    "plt.figure(figsize=(15, 10))\n",
    "plt.plot(metrics.history['loss'])\n",
    "plt.plot(metrics.history['val_loss'])\n",
    "plt.title('Training vs Testing Loss')\n",
    "plt.ylabel('Loss')\n",
    "plt.xlabel('Iterations')\n",
    "plt.legend(['Training Loss', 'Testing Loss'], loc='upper right')\n",
    "plt.show()"
   ]
  }
 ],
 "metadata": {
  "interpreter": {
   "hash": "7bbeb30e5b4f0f613c7f54d1e256b2905e48f74ad51aea87692e62aa6bac8a07"
  },
  "kernelspec": {
   "display_name": "Python 3.10.2 64-bit",
   "language": "python",
   "name": "python3"
  },
  "language_info": {
   "codemirror_mode": {
    "name": "ipython",
    "version": 3
   },
   "file_extension": ".py",
   "mimetype": "text/x-python",
   "name": "python",
   "nbconvert_exporter": "python",
   "pygments_lexer": "ipython3",
   "version": "3.9.7"
  },
  "orig_nbformat": 4
 },
 "nbformat": 4,
 "nbformat_minor": 2
}
